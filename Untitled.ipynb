{
 "cells": [
  {
   "cell_type": "code",
   "execution_count": 1,
   "id": "dd54fad0-620c-4cc0-871b-d4c71e863b27",
   "metadata": {},
   "outputs": [
    {
     "name": "stdout",
     "output_type": "stream",
     "text": [
      "Defaulting to user installation because normal site-packages is not writeable\n",
      "Collecting langchain_community\n",
      "  Downloading langchain_community-0.3.2-py3-none-any.whl.metadata (2.8 kB)\n",
      "Collecting langchain-nvidia-ai-endpoints\n",
      "  Downloading langchain_nvidia_ai_endpoints-0.3.0-py3-none-any.whl.metadata (9.9 kB)\n",
      "Collecting langchainhub\n",
      "  Downloading langchainhub-0.1.21-py3-none-any.whl.metadata (659 bytes)\n",
      "\u001b[31mERROR: Could not find a version that satisfies the requirement faiss-gpu (from versions: none)\u001b[0m\u001b[31m\n",
      "\u001b[0m\u001b[31mERROR: No matching distribution found for faiss-gpu\u001b[0m\u001b[31m\n",
      "\u001b[0m"
     ]
    }
   ],
   "source": [
    "!pip install -U langchain_community unstructured[all-docs] langchain-nvidia-ai-endpoints langchainhub faiss-gpu langchain langgraph pandas rank_bm25"
   ]
  },
  {
   "cell_type": "code",
   "execution_count": 2,
   "id": "d370bdaa-beb3-41be-8abb-ecd91ef596ef",
   "metadata": {},
   "outputs": [
    {
     "name": "stdout",
     "output_type": "stream",
     "text": [
      "--2024-10-09 14:28:33--  https://raw.githubusercontent.com/docugami/KG-RAG-datasets/main/nih-clinical-trial-protocols/download.csv\n",
      "Resolving raw.githubusercontent.com (raw.githubusercontent.com)... 185.199.109.133, 185.199.110.133, 185.199.111.133, ...\n",
      "Connecting to raw.githubusercontent.com (raw.githubusercontent.com)|185.199.109.133|:443... connected.\n",
      "HTTP request sent, awaiting response... 200 OK\n",
      "Length: 52230 (51K) [text/plain]\n",
      "Saving to: ‘download.csv’\n",
      "\n",
      "download.csv        100%[===================>]  51.01K  --.-KB/s    in 0.02s   \n",
      "\n",
      "2024-10-09 14:28:33 (3.25 MB/s) - ‘download.csv’ saved [52230/52230]\n",
      "\n",
      "--2024-10-09 14:28:33--  https://raw.githubusercontent.com/docugami/KG-RAG-datasets/main/nih-clinical-trial-protocols/download.py\n",
      "Resolving raw.githubusercontent.com (raw.githubusercontent.com)... 185.199.109.133, 185.199.110.133, 185.199.111.133, ...\n",
      "Connecting to raw.githubusercontent.com (raw.githubusercontent.com)|185.199.109.133|:443... connected.\n",
      "HTTP request sent, awaiting response... 200 OK\n",
      "Length: 2079 (2.0K) [text/plain]\n",
      "Saving to: ‘download.py’\n",
      "\n",
      "download.py         100%[===================>]   2.03K  --.-KB/s    in 0s      \n",
      "\n",
      "2024-10-09 14:28:33 (51.3 MB/s) - ‘download.py’ saved [2079/2079]\n",
      "\n",
      "Error downloading Study Protocol and Statistical Analysis Plan for NCT06155955: 403 Client Error: Forbidden for url: https://storage.googleapis.com/ctgov2-large-docs/55/NCT06155955/Prot_SAP_000.pdf\n",
      "Error downloading Study Protocol and Statistical Analysis Plan for NCT06155006: 403 Client Error: Forbidden for url: https://storage.googleapis.com/ctgov2-large-docs/06/NCT06155006/Prot_SAP_000.pdf\n",
      "Error downloading Study Protocol for NCT06152679: 403 Client Error: Forbidden for url: https://storage.googleapis.com/ctgov2-large-docs/79/NCT06152679/Prot_000.pdf\n",
      "Error downloading Study Protocol and Statistical Analysis Plan for NCT06147739: 403 Client Error: Forbidden for url: https://storage.googleapis.com/ctgov2-large-docs/39/NCT06147739/Prot_SAP_000.pdf\n",
      "Error downloading Study Protocol for NCT06152952: 403 Client Error: Forbidden for url: https://storage.googleapis.com/ctgov2-large-docs/52/NCT06152952/Prot_000.pdf\n",
      "Error downloading Study Protocol for NCT06152666: 403 Client Error: Forbidden for url: https://storage.googleapis.com/ctgov2-large-docs/66/NCT06152666/Prot_000.pdf\n",
      "Error downloading Study Protocol for NCT06154122: 403 Client Error: Forbidden for url: https://storage.googleapis.com/ctgov2-large-docs/22/NCT06154122/Prot_000.pdf\n",
      "Error downloading Study Protocol for NCT06152367: 403 Client Error: Forbidden for url: https://storage.googleapis.com/ctgov2-large-docs/67/NCT06152367/Prot_000.pdf\n",
      "Error downloading Informed Consent Form for NCT06152367: 403 Client Error: Forbidden for url: https://storage.googleapis.com/ctgov2-large-docs/67/NCT06152367/ICF_001.pdf\n",
      "Error downloading Study Protocol and Statistical Analysis Plan for NCT06152900: 403 Client Error: Forbidden for url: https://storage.googleapis.com/ctgov2-large-docs/00/NCT06152900/Prot_SAP_000.pdf\n",
      "Error downloading Study Protocol for NCT06159946: 403 Client Error: Forbidden for url: https://storage.googleapis.com/ctgov2-large-docs/46/NCT06159946/Prot_000.pdf\n",
      "No valid URL for Study Protocol, Statistical Analysis Plan, and Informed Consent Form, https://storage.googleapis.com/ctgov2-large-docs/46/NCT06145646/Prot_SAP_ICF_000.pdf in NCT06145646\n",
      "Error downloading Study Protocol for NCT06151600: 403 Client Error: Forbidden for url: https://storage.googleapis.com/ctgov2-large-docs/00/NCT06151600/Prot_000.pdf\n",
      "Error downloading Study Protocol and Statistical Analysis Plan for NCT06150378: 403 Client Error: Forbidden for url: https://storage.googleapis.com/ctgov2-large-docs/78/NCT06150378/Prot_SAP_000.pdf\n",
      "Error downloading Informed Consent Form for NCT06150378: 403 Client Error: Forbidden for url: https://storage.googleapis.com/ctgov2-large-docs/78/NCT06150378/ICF_001.pdf\n",
      "Error downloading Study Protocol for NCT06149832: 403 Client Error: Forbidden for url: https://storage.googleapis.com/ctgov2-large-docs/32/NCT06149832/Prot_000.pdf\n",
      "Error downloading Study Protocol and Statistical Analysis Plan for NCT06145295: 403 Client Error: Forbidden for url: https://storage.googleapis.com/ctgov2-large-docs/95/NCT06145295/Prot_SAP_000.pdf\n",
      "Error downloading Study Protocol and Statistical Analysis Plan for NCT06153992: 403 Client Error: Forbidden for url: https://storage.googleapis.com/ctgov2-large-docs/92/NCT06153992/Prot_SAP_000.pdf\n",
      "Error downloading Informed Consent Form for NCT06153992: 403 Client Error: Forbidden for url: https://storage.googleapis.com/ctgov2-large-docs/92/NCT06153992/ICF_001.pdf\n",
      "Error downloading Study Protocol and Statistical Analysis Plan for NCT06155240: 403 Client Error: Forbidden for url: https://storage.googleapis.com/ctgov2-large-docs/40/NCT06155240/Prot_SAP_000.pdf\n",
      "Error downloading Study Protocol and Statistical Analysis Plan for NCT06156735: 403 Client Error: Forbidden for url: https://storage.googleapis.com/ctgov2-large-docs/35/NCT06156735/Prot_SAP_000.pdf\n",
      "Error downloading Informed Consent Form for NCT06156735: 403 Client Error: Forbidden for url: https://storage.googleapis.com/ctgov2-large-docs/35/NCT06156735/ICF_001.pdf\n",
      "Error downloading Study Protocol for NCT06158269: 403 Client Error: Forbidden for url: https://storage.googleapis.com/ctgov2-large-docs/69/NCT06158269/Prot_000.pdf\n",
      "Error downloading Study Protocol for NCT06157684: 403 Client Error: Forbidden for url: https://storage.googleapis.com/ctgov2-large-docs/84/NCT06157684/Prot_000.pdf\n",
      "Error downloading Informed Consent Form for NCT06157684: 403 Client Error: Forbidden for url: https://storage.googleapis.com/ctgov2-large-docs/84/NCT06157684/ICF_001.pdf\n"
     ]
    }
   ],
   "source": [
    "!wget https://raw.githubusercontent.com/docugami/KG-RAG-datasets/main/nih-clinical-trial-protocols/download.csv\n",
    "!wget https://raw.githubusercontent.com/docugami/KG-RAG-datasets/main/nih-clinical-trial-protocols/download.py\n",
    "!python download.py"
   ]
  },
  {
   "cell_type": "code",
   "execution_count": 4,
   "id": "1f691f35-b244-4b58-ae2a-8a67e7cd4c4a",
   "metadata": {},
   "outputs": [],
   "source": []
  },
  {
   "cell_type": "code",
   "execution_count": null,
   "id": "0e56cb34-b35a-4348-9075-da35fc560fa0",
   "metadata": {},
   "outputs": [],
   "source": []
  },
  {
   "cell_type": "code",
   "execution_count": null,
   "id": "b3bb1612-3ac9-4f79-9903-8a2ab009cf3a",
   "metadata": {},
   "outputs": [],
   "source": []
  },
  {
   "cell_type": "code",
   "execution_count": 3,
   "id": "d8f71e26-5c7f-4ebf-a9c1-bcaaa995e89c",
   "metadata": {},
   "outputs": [
    {
     "name": "stderr",
     "output_type": "stream",
     "text": [
      "/opt/conda/lib/python3.11/site-packages/huggingface_hub/file_download.py:1132: FutureWarning: `resume_download` is deprecated and will be removed in version 1.0.0. Downloads always resume when possible. If you want to force a new download, use `force_download=True`.\n",
      "  warnings.warn(\n",
      "Some weights of BertForTokenClassification were not initialized from the model checkpoint at dmis-lab/biobert-base-cased-v1.1 and are newly initialized: ['classifier.bias', 'classifier.weight']\n",
      "You should probably TRAIN this model on a down-stream task to be able to use it for predictions and inference.\n",
      "Asking to truncate to max_length but no maximum length is provided and the model has no predefined maximum length. Default to no truncation.\n"
     ]
    },
    {
     "data": {
      "text/html": [
       "<div>\n",
       "<style scoped>\n",
       "    .dataframe tbody tr th:only-of-type {\n",
       "        vertical-align: middle;\n",
       "    }\n",
       "\n",
       "    .dataframe tbody tr th {\n",
       "        vertical-align: top;\n",
       "    }\n",
       "\n",
       "    .dataframe thead th {\n",
       "        text-align: right;\n",
       "    }\n",
       "</style>\n",
       "<table border=\"1\" class=\"dataframe\">\n",
       "  <thead>\n",
       "    <tr style=\"text-align: right;\">\n",
       "      <th></th>\n",
       "      <th>PICO</th>\n",
       "      <th>Synonyms/Mesh-Terms</th>\n",
       "    </tr>\n",
       "  </thead>\n",
       "  <tbody>\n",
       "    <tr>\n",
       "      <th>0</th>\n",
       "      <td>Population</td>\n",
       "      <td>[ch, ber, an, halt, te, ch, z, mit, p, fen, au...</td>\n",
       "    </tr>\n",
       "    <tr>\n",
       "      <th>1</th>\n",
       "      <td>Intervention</td>\n",
       "      <td>[]</td>\n",
       "    </tr>\n",
       "    <tr>\n",
       "      <th>2</th>\n",
       "      <td>Comparison</td>\n",
       "      <td>[]</td>\n",
       "    </tr>\n",
       "    <tr>\n",
       "      <th>3</th>\n",
       "      <td>Outcome</td>\n",
       "      <td>[]</td>\n",
       "    </tr>\n",
       "  </tbody>\n",
       "</table>\n",
       "</div>"
      ],
      "text/plain": [
       "           PICO                                Synonyms/Mesh-Terms\n",
       "0    Population  [ch, ber, an, halt, te, ch, z, mit, p, fen, au...\n",
       "1  Intervention                                                 []\n",
       "2    Comparison                                                 []\n",
       "3       Outcome                                                 []"
      ]
     },
     "metadata": {},
     "output_type": "display_data"
    },
    {
     "name": "stdout",
     "output_type": "stream",
     "text": [
      "           PICO                                Synonyms/Mesh-Terms\n",
      "0    Population  [ch, ber, an, halt, te, ch, z, mit, p, fen, au...\n",
      "1  Intervention                                                 []\n",
      "2    Comparison                                                 []\n",
      "3       Outcome                                                 []\n"
     ]
    }
   ],
   "source": []
  },
  {
   "cell_type": "code",
   "execution_count": null,
   "id": "9fa39c5f-da73-42dc-a051-5c7fc2bb2a21",
   "metadata": {},
   "outputs": [],
   "source": []
  },
  {
   "cell_type": "code",
   "execution_count": null,
   "id": "56478b08-3514-43b4-97e2-689dfa18f94c",
   "metadata": {},
   "outputs": [],
   "source": []
  }
 ],
 "metadata": {
  "kernelspec": {
   "display_name": "Python 3 (ipykernel)",
   "language": "python",
   "name": "python3"
  },
  "language_info": {
   "codemirror_mode": {
    "name": "ipython",
    "version": 3
   },
   "file_extension": ".py",
   "mimetype": "text/x-python",
   "name": "python",
   "nbconvert_exporter": "python",
   "pygments_lexer": "ipython3",
   "version": "3.11.9"
  }
 },
 "nbformat": 4,
 "nbformat_minor": 5
}
